{
 "cells": [
  {
   "cell_type": "code",
   "execution_count": 0,
   "metadata": {
    "application/vnd.databricks.v1+cell": {
     "cellMetadata": {
      "byteLimit": 2048000,
      "rowLimit": 10000
     },
     "inputWidgets": {},
     "nuid": "0d37fdab-0282-4d32-898a-5108121d19d8",
     "showTitle": false,
     "tableResultSettingsMap": {},
     "title": ""
    }
   },
   "outputs": [],
   "source": [
    "%pip install openai"
   ]
  },
  {
   "cell_type": "code",
   "execution_count": 0,
   "metadata": {
    "application/vnd.databricks.v1+cell": {
     "cellMetadata": {
      "byteLimit": 2048000,
      "rowLimit": 10000
     },
     "inputWidgets": {},
     "nuid": "84d32332-131a-4828-8575-9485efa8430f",
     "showTitle": false,
     "tableResultSettingsMap": {},
     "title": ""
    }
   },
   "outputs": [
    {
     "name": "stdout",
     "output_type": "stream",
     "text": [
      "\n",
      "📝 Summary:\n",
      "Here's a summary of the text, including key points clearly and quoting some original sentences verbatim where necessary to preserve tone or meaning:\n",
      "\n",
      "**Introduction**\n",
      "\n",
      "The text begins with a simile, comparing data to a puzzle with 1000 pieces that need to be assembled together to create a beautiful picture. It introduces Data Breaks, a company that helps users assemble these puzzle pieces.\n",
      "\n",
      "**About Data Breaks**\n",
      "\n",
      "Data Breaks was founded by the creators of Apache Spark, an open-source distributed computing system, in 2013. Besides Data Breaks, the founders also created MLflow and Delta Lake, which are also open-source platforms. \n",
      "\n",
      "**Who Can Use Data Breaks?**\n",
      "\n",
      "Data Breaks can be used by:\n",
      "\n",
      "* Data Scientists for developing and training machine learning models, running data analysis, and visualizing results.\n",
      "* Data Engineers for transforming and cleaning data, creating data pipelines, and optimizing data for analysis.\n",
      "* Analytics Users for exploring data, creating visualizations, and running ad-hoc queries.\n",
      "\n",
      "**Architecture of Data Breaks**\n",
      "\n",
      "Data Breaks uses the Data Lake House architecture, which combines the best features of data lakes and data warehouses. The architecture consists of three main layers:\n",
      "\n",
      "1. **Bronze Layer**: The raw data layer, where data from various sources is stored in its native format.\n",
      "2. **Silver Layer**: The metadata and governance layer, where raw data is clean, processed, and transformed into a more consumable format.\n",
      "3. **Gold Layer**: The final layer, where data is further aggregated and optimized for reporting and analytics.\n",
      "\n",
      "**Data Breaks Implementation**\n",
      "\n",
      "Data Breaks has two main divisions:\n",
      "\n",
      "1. **Data Engineering**: Integrates with Apache Spark, allowing users to clean, transform, and analyze vast amounts of data efficiently.\n",
      "2. **Machine Learning**: Offers a collaborative environment where data scientists can build, train, and deploy machine learning models using MLflow.\n",
      "\n",
      "**Creating a Cluster in Data Breaks**\n",
      "\n",
      "Clusters in Data Breaks are groups of computers that work together to perform tasks. Creating a cluster is simple: login to the Data Breaks account, click on the \"Clusters\" tab, and click on the \"Create Cluster\" button.\n",
      "\n",
      "**Notebook in Data Breaks**\n",
      "\n",
      "A notebook in Data Breaks is a collaborative environment where users can write and run code. Users can choose from various programming languages, including R, Scala, and Python.\n",
      "\n",
      "**Conclusion**\n",
      "\n",
      "The video ends with a conclusion and a call to action to like and comment on the video, as well as to subscribe to the channel for more videos.\n",
      "\n",
      "Key points:\n",
      "\n",
      "* Data Breaks is a company founded by the creators of Apache Spark.\n",
      "* Data Breaks can be used by data scientists, data engineers, and analytics users.\n",
      "* The Data Lake House architecture combines the best features of data lakes and data warehouses.\n",
      "* Data Breaks has two main divisions: Data Engineering and Machine Learning.\n",
      "* Clusters in Data Breaks are groups of computers that work together to perform tasks.\n",
      "* Notebooks in Data Breaks are collaborative environments where users can write and run code.\n"
     ]
    }
   ],
   "source": [
    "from openai import OpenAI\n",
    "import os\n",
    "\n",
    "# Get token\n",
    "DATABRICKS_TOKEN = dbutils.notebook.entry_point.getDbutils().notebook().getContext().apiToken().get()\n",
    "\n",
    "# Set up client\n",
    "client = OpenAI(\n",
    "    api_key=DATABRICKS_TOKEN,\n",
    "    base_url=\" \" # Removed for security reasons, please set your own base URL\n",
    ")\n",
    "\n",
    "# Read the transcribed text\n",
    "with open(\"/Workspace/Users/User/text.txt\", \"r\", encoding=\"utf-8\") as f:\n",
    "    transcribed_text = f.read()\n",
    "\n",
    "# Prompt with instructions\n",
    "prompt = f\"\"\"\n",
    "Please summarize the following text. First explain what is it about. Include key points clearly, and quote some original sentences verbatim where appropriate to preserve tone or meaning.\n",
    "\n",
    "--- Begin text ---\n",
    "{transcribed_text}\n",
    "--- End text ---\n",
    "\"\"\"\n",
    "\n",
    "# Request summary from the model\n",
    "response = client.chat.completions.create(\n",
    "    model=\"databricks-meta-llama-3-1-8b-instruct\",\n",
    "    messages=[\n",
    "        {\"role\": \"user\", \"content\": prompt}\n",
    "    ]\n",
    ")\n",
    "\n",
    "# Output result\n",
    "print(\"\\n📝 Summary:\")\n",
    "print(response.choices[0].message.content)\n"
   ]
  }
 ],
 "metadata": {
  "application/vnd.databricks.v1+notebook": {
   "computePreferences": null,
   "dashboards": [],
   "environmentMetadata": {
    "base_environment": "",
    "environment_version": "2"
   },
   "inputWidgetPreferences": null,
   "language": "python",
   "notebookMetadata": {
    "pythonIndentUnit": 4
   },
   "notebookName": "Text_to_Summary",
   "widgets": {}
  },
  "language_info": {
   "name": "python"
  }
 },
 "nbformat": 4,
 "nbformat_minor": 0
}
